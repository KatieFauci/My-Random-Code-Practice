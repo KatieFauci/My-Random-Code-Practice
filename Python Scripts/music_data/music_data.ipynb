{
 "cells": [
  {
   "cell_type": "code",
   "execution_count": 4,
   "metadata": {},
   "outputs": [
    {
     "name": "stdout",
     "output_type": "stream",
     "text": [
      "Requirement already satisfied: sympy in c:\\python312\\lib\\site-packages (1.13.1)\n",
      "Requirement already satisfied: numpy in c:\\python312\\lib\\site-packages (1.26.4)\n",
      "Requirement already satisfied: pandas in c:\\python312\\lib\\site-packages (2.2.2)\n",
      "Requirement already satisfied: scikit-learn in c:\\python312\\lib\\site-packages (1.5.1)\n",
      "Requirement already satisfied: scipy in c:\\python312\\lib\\site-packages (1.14.0)\n",
      "Requirement already satisfied: seaborn in c:\\python312\\lib\\site-packages (0.13.2)\n",
      "Requirement already satisfied: matplotlib in c:\\python312\\lib\\site-packages (3.8.4)\n",
      "Requirement already satisfied: mpmath<1.4,>=1.1.0 in c:\\python312\\lib\\site-packages (from sympy) (1.3.0)\n",
      "Requirement already satisfied: python-dateutil>=2.8.2 in c:\\python312\\lib\\site-packages (from pandas) (2.9.0.post0)\n",
      "Requirement already satisfied: pytz>=2020.1 in c:\\python312\\lib\\site-packages (from pandas) (2024.1)\n",
      "Requirement already satisfied: tzdata>=2022.7 in c:\\python312\\lib\\site-packages (from pandas) (2024.1)\n",
      "Requirement already satisfied: joblib>=1.2.0 in c:\\python312\\lib\\site-packages (from scikit-learn) (1.4.2)\n",
      "Requirement already satisfied: threadpoolctl>=3.1.0 in c:\\python312\\lib\\site-packages (from scikit-learn) (3.5.0)\n",
      "Requirement already satisfied: contourpy>=1.0.1 in c:\\python312\\lib\\site-packages (from matplotlib) (1.2.1)\n",
      "Requirement already satisfied: cycler>=0.10 in c:\\python312\\lib\\site-packages (from matplotlib) (0.12.1)\n",
      "Requirement already satisfied: fonttools>=4.22.0 in c:\\python312\\lib\\site-packages (from matplotlib) (4.51.0)\n",
      "Requirement already satisfied: kiwisolver>=1.3.1 in c:\\python312\\lib\\site-packages (from matplotlib) (1.4.5)\n",
      "Requirement already satisfied: packaging>=20.0 in c:\\python312\\lib\\site-packages (from matplotlib) (24.0)\n",
      "Requirement already satisfied: pillow>=8 in c:\\python312\\lib\\site-packages (from matplotlib) (10.3.0)\n",
      "Requirement already satisfied: pyparsing>=2.3.1 in c:\\python312\\lib\\site-packages (from matplotlib) (3.1.2)\n",
      "Requirement already satisfied: six>=1.5 in c:\\python312\\lib\\site-packages (from python-dateutil>=2.8.2->pandas) (1.16.0)\n"
     ]
    },
    {
     "name": "stderr",
     "output_type": "stream",
     "text": [
      "WARNING: Ignoring invalid distribution ~ip (c:\\Python312\\Lib\\site-packages)\n",
      "WARNING: Ignoring invalid distribution ~uildozer (c:\\Python312\\Lib\\site-packages)\n",
      "WARNING: Ignoring invalid distribution ~ip (c:\\Python312\\Lib\\site-packages)\n",
      "WARNING: Ignoring invalid distribution ~uildozer (c:\\Python312\\Lib\\site-packages)\n",
      "WARNING: Ignoring invalid distribution ~ip (c:\\Python312\\Lib\\site-packages)\n",
      "WARNING: Ignoring invalid distribution ~uildozer (c:\\Python312\\Lib\\site-packages)\n"
     ]
    }
   ],
   "source": [
    "# Install the required libraries into the current kernel\n",
    "\n",
    "import sys\n",
    "\n",
    "!{sys.executable} -m pip install sympy numpy pandas scikit-learn scipy seaborn matplotlib"
   ]
  },
  {
   "cell_type": "code",
   "execution_count": 5,
   "metadata": {},
   "outputs": [],
   "source": [
    "import csv \n",
    "import json\n",
    "\n",
    "def convert_to_json(song_file):\n",
    "    \n",
    "    with open(song_file, 'r') as file:\n",
    "        content = csv.DictReader(file)\n",
    "        songs = [row for row in content]\n",
    "\n",
    "    with open('Songs.json', 'w') as json_file:\n",
    "        json.dump(songs, json_file, indent=4)\n",
    "\n",
    "convert_to_json('songs_1.csv')"
   ]
  },
  {
   "cell_type": "code",
   "execution_count": 9,
   "metadata": {},
   "outputs": [],
   "source": [
    "import csv\n",
    "import json\n",
    "\n",
    "def parse_albums_to_json(song_file):\n",
    "    \n",
    "    with open(song_file, 'r') as file:\n",
    "        content = csv.DictReader(file)\n",
    "        songs = [row for row in content]\n",
    "\n",
    "    albums = []\n",
    "    for song in songs:\n",
    "        this_song = {\n",
    "            'Song_Title': song['Title'],\n",
    "            'Runtime': song['Runtime']\n",
    "        }\n",
    "        if not albums:\n",
    "            this_album = {\n",
    "                    'Album_Title': song['Album'],\n",
    "                    'Artist': song['Artist'],\n",
    "                    'Songs':[this_song]\n",
    "                }\n",
    "            albums.append(this_album)\n",
    "        else:\n",
    "            album_found = False\n",
    "            if any(a['Album_Title'] == song['Album'] for a in albums):\n",
    "                for a in albums:\n",
    "                    if a['Album_Title'] == song['Album']:\n",
    "                        a['Songs'].append(this_song)\n",
    "                        break\n",
    "            else:\n",
    "                this_album = {\n",
    "                    'Album_Title': song['Album'],\n",
    "                    'Artist': song['Artist'],\n",
    "                    'Songs':[this_song]\n",
    "                }\n",
    "                albums.append(this_album)\n",
    "\n",
    "    with open('Albums.json', 'w') as json_file:\n",
    "        json.dump(albums, json_file, indent=4)\n",
    "\n",
    "parse_albums_to_json('songs_1.csv')"
   ]
  },
  {
   "cell_type": "code",
   "execution_count": 10,
   "metadata": {},
   "outputs": [],
   "source": [
    "convert_to_json('songs_2.csv')\n",
    "parse_albums_to_json('songs_2.csv')"
   ]
  }
 ],
 "metadata": {
  "kernelspec": {
   "display_name": "Python 3",
   "language": "python",
   "name": "python3"
  },
  "language_info": {
   "codemirror_mode": {
    "name": "ipython",
    "version": 3
   },
   "file_extension": ".py",
   "mimetype": "text/x-python",
   "name": "python",
   "nbconvert_exporter": "python",
   "pygments_lexer": "ipython3",
   "version": "3.12.2"
  }
 },
 "nbformat": 4,
 "nbformat_minor": 2
}
