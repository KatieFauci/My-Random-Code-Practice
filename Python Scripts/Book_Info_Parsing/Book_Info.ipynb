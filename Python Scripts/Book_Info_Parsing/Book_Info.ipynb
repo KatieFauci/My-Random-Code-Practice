{
 "cells": [
  {
   "cell_type": "code",
   "execution_count": 1,
   "id": "9a80cd21-4668-4f81-99a9-4ce2bd8065e1",
   "metadata": {},
   "outputs": [
    {
     "name": "stdout",
     "output_type": "stream",
     "text": [
      "Requirement already satisfied: sympy in c:\\python312\\lib\\site-packages (1.13.1)\n",
      "Requirement already satisfied: numpy in c:\\python312\\lib\\site-packages (1.26.4)\n",
      "Requirement already satisfied: pandas in c:\\python312\\lib\\site-packages (2.2.2)\n",
      "Requirement already satisfied: scikit-learn in c:\\python312\\lib\\site-packages (1.5.1)\n",
      "Requirement already satisfied: scipy in c:\\python312\\lib\\site-packages (1.14.0)\n",
      "Requirement already satisfied: seaborn in c:\\python312\\lib\\site-packages (0.13.2)\n",
      "Requirement already satisfied: matplotlib in c:\\python312\\lib\\site-packages (3.8.4)\n",
      "Requirement already satisfied: openpyxl in c:\\python312\\lib\\site-packages (3.1.5)\n",
      "Requirement already satisfied: mpmath<1.4,>=1.1.0 in c:\\python312\\lib\\site-packages (from sympy) (1.3.0)\n",
      "Requirement already satisfied: python-dateutil>=2.8.2 in c:\\python312\\lib\\site-packages (from pandas) (2.9.0.post0)\n",
      "Requirement already satisfied: pytz>=2020.1 in c:\\python312\\lib\\site-packages (from pandas) (2024.1)\n",
      "Requirement already satisfied: tzdata>=2022.7 in c:\\python312\\lib\\site-packages (from pandas) (2024.1)\n",
      "Requirement already satisfied: joblib>=1.2.0 in c:\\python312\\lib\\site-packages (from scikit-learn) (1.4.2)\n",
      "Requirement already satisfied: threadpoolctl>=3.1.0 in c:\\python312\\lib\\site-packages (from scikit-learn) (3.5.0)\n",
      "Requirement already satisfied: contourpy>=1.0.1 in c:\\python312\\lib\\site-packages (from matplotlib) (1.2.1)\n",
      "Requirement already satisfied: cycler>=0.10 in c:\\python312\\lib\\site-packages (from matplotlib) (0.12.1)\n",
      "Requirement already satisfied: fonttools>=4.22.0 in c:\\python312\\lib\\site-packages (from matplotlib) (4.51.0)\n",
      "Requirement already satisfied: kiwisolver>=1.3.1 in c:\\python312\\lib\\site-packages (from matplotlib) (1.4.5)\n",
      "Requirement already satisfied: packaging>=20.0 in c:\\python312\\lib\\site-packages (from matplotlib) (24.0)\n",
      "Requirement already satisfied: pillow>=8 in c:\\python312\\lib\\site-packages (from matplotlib) (10.3.0)\n",
      "Requirement already satisfied: pyparsing>=2.3.1 in c:\\python312\\lib\\site-packages (from matplotlib) (3.1.2)\n",
      "Requirement already satisfied: et-xmlfile in c:\\python312\\lib\\site-packages (from openpyxl) (1.1.0)\n",
      "Requirement already satisfied: six>=1.5 in c:\\python312\\lib\\site-packages (from python-dateutil>=2.8.2->pandas) (1.16.0)\n"
     ]
    },
    {
     "name": "stderr",
     "output_type": "stream",
     "text": [
      "WARNING: Ignoring invalid distribution ~ip (c:\\Python312\\Lib\\site-packages)\n",
      "WARNING: Ignoring invalid distribution ~uildozer (c:\\Python312\\Lib\\site-packages)\n",
      "WARNING: Ignoring invalid distribution ~ip (c:\\Python312\\Lib\\site-packages)\n",
      "WARNING: Ignoring invalid distribution ~uildozer (c:\\Python312\\Lib\\site-packages)\n",
      "WARNING: Ignoring invalid distribution ~ip (c:\\Python312\\Lib\\site-packages)\n",
      "WARNING: Ignoring invalid distribution ~uildozer (c:\\Python312\\Lib\\site-packages)\n"
     ]
    }
   ],
   "source": [
    "# Install the required libraries into the current kernel\n",
    "\n",
    "import sys\n",
    "\n",
    "!{sys.executable} -m pip install sympy numpy pandas scikit-learn scipy seaborn matplotlib openpyxl"
   ]
  },
  {
   "cell_type": "code",
   "execution_count": 32,
   "id": "3c1fc647",
   "metadata": {},
   "outputs": [],
   "source": [
    "import json\n",
    "\n",
    "def parse_book_info(book_file):\n",
    "\n",
    "    books = []\n",
    "    id = 1\n",
    "    with open(book_file, 'r') as file:\n",
    "        for line in file:\n",
    "            data = line.split('By')\n",
    "            this_book = {\n",
    "                'Book_ID': id,\n",
    "                'Title': data[0].strip(),\n",
    "                'Author': data[1].strip()\n",
    "            } \n",
    "            books.append(this_book)\n",
    "            id += 1\n",
    "    \n",
    "    with open('Books.json', 'w') as json_file:\n",
    "        json.dump(books, json_file, indent=4)\n",
    "\n",
    "\n",
    "parse_book_info('books_1.txt')"
   ]
  },
  {
   "cell_type": "code",
   "execution_count": 34,
   "id": "7e5fe553",
   "metadata": {},
   "outputs": [],
   "source": [
    "def parse_authors(book_file):\n",
    "\n",
    "    authors = []\n",
    "    id = 1\n",
    "    with open(book_file, 'r') as file:\n",
    "        for line in file:\n",
    "            data  = line.split('By')\n",
    "            author = data[1].strip()\n",
    "\n",
    "            if not authors:\n",
    "                this_author = {\n",
    "                    'Author_ID': id,\n",
    "                    'Author': author,\n",
    "                    'Books': []\n",
    "                }\n",
    "                authors.append(this_author)\n",
    "                id += 1\n",
    "    \n",
    "            for a in authors:\n",
    "                if a['Author'] == author:\n",
    "                    a['Books'].append(data[0].strip())\n",
    "                    break\n",
    "                else:\n",
    "                    this_author = {\n",
    "                        'Author_ID': id,\n",
    "                        'Author': author,\n",
    "                        'Books': [data[0].strip()]\n",
    "                    }\n",
    "                    authors.append(this_author)\n",
    "                    id += 1\n",
    "                \n",
    "    with open('Authors.json', 'w') as json_file:\n",
    "        json.dump(authors, json_file, indent=4)\n",
    "\n",
    "parse_authors('books_1.txt')"
   ]
  },
  {
   "cell_type": "code",
   "execution_count": 33,
   "id": "18a258f3",
   "metadata": {},
   "outputs": [],
   "source": [
    "parse_book_info('books_2.txt')\n",
    "parse_authors('books_2.txt')"
   ]
  }
 ],
 "metadata": {
  "kernelspec": {
   "display_name": "Python 3",
   "language": "python",
   "name": "python3"
  },
  "language_info": {
   "codemirror_mode": {
    "name": "ipython",
    "version": 3
   },
   "file_extension": ".py",
   "mimetype": "text/x-python",
   "name": "python",
   "nbconvert_exporter": "python",
   "pygments_lexer": "ipython3",
   "version": "3.12.2"
  }
 },
 "nbformat": 4,
 "nbformat_minor": 5
}
